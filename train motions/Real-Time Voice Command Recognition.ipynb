{
 "cells": [
  {
   "cell_type": "code",
   "execution_count": 1,
   "metadata": {},
   "outputs": [],
   "source": [
    "import tensorflow as tf\n",
    "import os\n",
    "import librosa\n",
    "import numpy as np\n",
    "from sklearn.model_selection import train_test_split\n",
    "\n",
    "# Define commands and paths\n",
    "commands = ['up', 'down', 'left', 'right']\n",
    "data_dir = 'E:/study/رابعه/Machine Learning/project/Learn App/Train motions'\n",
    "\n",
    "# Helper function to load audio files\n",
    "def load_audio_files(data_dir, commands):\n",
    "    audio_data = []\n",
    "    labels = []\n",
    "    for label, command in enumerate(commands):\n",
    "        command_path = os.path.join(data_dir, command)\n",
    "        for file in os.listdir(command_path):\n",
    "            try:\n",
    "                file_path = os.path.join(command_path, file)\n",
    "                audio, sr = librosa.load(file_path, sr=16000)\n",
    "                audio_data.append(audio)\n",
    "                labels.append(label)\n",
    "            except Exception as e:\n",
    "                print(f\"Error loading {file}: {e}\")\n",
    "    return np.array(audio_data, dtype=object), np.array(labels)\n",
    "\n",
    "# Load the data\n",
    "audio_data, labels = load_audio_files(data_dir, commands)\n"
   ]
  },
  {
   "cell_type": "code",
   "execution_count": 2,
   "metadata": {},
   "outputs": [],
   "source": [
    "def extract_features(audio_data, max_length=16000):\n",
    "    features = []\n",
    "    for audio in audio_data:\n",
    "        # Pad or truncate audio to fixed length\n",
    "        audio = librosa.util.fix_length(audio, size=max_length)\n",
    "        # Extract MFCC features\n",
    "        mfcc = librosa.feature.mfcc(y=audio, sr=16000, n_mfcc=40)\n",
    "        features.append(mfcc)\n",
    "    return np.array(features)\n",
    "\n",
    "# Extract features\n",
    "features = extract_features(audio_data)\n",
    "\n",
    "# Normalize and reshape\n",
    "features = np.expand_dims(features, -1)  # Add channel dimension for CNN\n",
    "labels = tf.keras.utils.to_categorical(labels, num_classes=len(commands))\n",
    "\n",
    "# Split into training and testing\n",
    "X_train, X_test, y_train, y_test = train_test_split(features, labels, test_size=0.2, random_state=42)\n"
   ]
  },
  {
   "cell_type": "code",
   "execution_count": 3,
   "metadata": {},
   "outputs": [
    {
     "name": "stderr",
     "output_type": "stream",
     "text": [
      "d:\\anaconda3\\Lib\\site-packages\\keras\\src\\layers\\convolutional\\base_conv.py:107: UserWarning: Do not pass an `input_shape`/`input_dim` argument to a layer. When using Sequential models, prefer using an `Input(shape)` object as the first layer in the model instead.\n",
      "  super().__init__(activity_regularizer=activity_regularizer, **kwargs)\n"
     ]
    }
   ],
   "source": [
    "from tensorflow.keras import layers, models\n",
    "\n",
    "def build_model(input_shape, num_classes):\n",
    "    model = models.Sequential([\n",
    "        layers.Conv2D(32, (3, 3), activation='relu', input_shape=input_shape),\n",
    "        layers.MaxPooling2D((2, 2)),\n",
    "        layers.Conv2D(64, (3, 3), activation='relu'),\n",
    "        layers.MaxPooling2D((2, 2)),\n",
    "        layers.Flatten(),\n",
    "        layers.Dense(128, activation='relu'),\n",
    "        layers.Dropout(0.3),\n",
    "        layers.Dense(num_classes, activation='softmax')\n",
    "    ])\n",
    "    model.compile(optimizer='adam',\n",
    "                  loss='categorical_crossentropy',\n",
    "                  metrics=['accuracy'])\n",
    "    return model\n",
    "\n",
    "# Build the model\n",
    "input_shape = X_train.shape[1:]  # e.g., (40, 100, 1)\n",
    "model = build_model(input_shape, len(commands))\n"
   ]
  },
  {
   "cell_type": "code",
   "execution_count": 4,
   "metadata": {},
   "outputs": [
    {
     "name": "stdout",
     "output_type": "stream",
     "text": [
      "Epoch 1/30\n",
      "\u001b[1m381/381\u001b[0m \u001b[32m━━━━━━━━━━━━━━━━━━━━\u001b[0m\u001b[37m\u001b[0m \u001b[1m28s\u001b[0m 16ms/step - accuracy: 0.4818 - loss: 2.5548 - val_accuracy: 0.8844 - val_loss: 0.3477\n",
      "Epoch 2/30\n",
      "\u001b[1m381/381\u001b[0m \u001b[32m━━━━━━━━━━━━━━━━━━━━\u001b[0m\u001b[37m\u001b[0m \u001b[1m6s\u001b[0m 16ms/step - accuracy: 0.8660 - loss: 0.3653 - val_accuracy: 0.9139 - val_loss: 0.2348\n",
      "Epoch 3/30\n",
      "\u001b[1m381/381\u001b[0m \u001b[32m━━━━━━━━━━━━━━━━━━━━\u001b[0m\u001b[37m\u001b[0m \u001b[1m6s\u001b[0m 16ms/step - accuracy: 0.9267 - loss: 0.2054 - val_accuracy: 0.9451 - val_loss: 0.1546\n",
      "Epoch 4/30\n",
      "\u001b[1m381/381\u001b[0m \u001b[32m━━━━━━━━━━━━━━━━━━━━\u001b[0m\u001b[37m\u001b[0m \u001b[1m6s\u001b[0m 15ms/step - accuracy: 0.9469 - loss: 0.1439 - val_accuracy: 0.9507 - val_loss: 0.1447\n",
      "Epoch 5/30\n",
      "\u001b[1m381/381\u001b[0m \u001b[32m━━━━━━━━━━━━━━━━━━━━\u001b[0m\u001b[37m\u001b[0m \u001b[1m6s\u001b[0m 15ms/step - accuracy: 0.9575 - loss: 0.1258 - val_accuracy: 0.9478 - val_loss: 0.1501\n",
      "Epoch 6/30\n",
      "\u001b[1m381/381\u001b[0m \u001b[32m━━━━━━━━━━━━━━━━━━━━\u001b[0m\u001b[37m\u001b[0m \u001b[1m6s\u001b[0m 15ms/step - accuracy: 0.9681 - loss: 0.0863 - val_accuracy: 0.9435 - val_loss: 0.1572\n",
      "Epoch 7/30\n",
      "\u001b[1m381/381\u001b[0m \u001b[32m━━━━━━━━━━━━━━━━━━━━\u001b[0m\u001b[37m\u001b[0m \u001b[1m6s\u001b[0m 16ms/step - accuracy: 0.9760 - loss: 0.0690 - val_accuracy: 0.9583 - val_loss: 0.1410\n",
      "Epoch 8/30\n",
      "\u001b[1m381/381\u001b[0m \u001b[32m━━━━━━━━━━━━━━━━━━━━\u001b[0m\u001b[37m\u001b[0m \u001b[1m6s\u001b[0m 16ms/step - accuracy: 0.9763 - loss: 0.0695 - val_accuracy: 0.9609 - val_loss: 0.1333\n",
      "Epoch 9/30\n",
      "\u001b[1m381/381\u001b[0m \u001b[32m━━━━━━━━━━━━━━━━━━━━\u001b[0m\u001b[37m\u001b[0m \u001b[1m6s\u001b[0m 16ms/step - accuracy: 0.9798 - loss: 0.0577 - val_accuracy: 0.9583 - val_loss: 0.1415\n",
      "Epoch 10/30\n",
      "\u001b[1m381/381\u001b[0m \u001b[32m━━━━━━━━━━━━━━━━━━━━\u001b[0m\u001b[37m\u001b[0m \u001b[1m6s\u001b[0m 15ms/step - accuracy: 0.9812 - loss: 0.0575 - val_accuracy: 0.9589 - val_loss: 0.1346\n",
      "Epoch 11/30\n",
      "\u001b[1m381/381\u001b[0m \u001b[32m━━━━━━━━━━━━━━━━━━━━\u001b[0m\u001b[37m\u001b[0m \u001b[1m5s\u001b[0m 13ms/step - accuracy: 0.9816 - loss: 0.0489 - val_accuracy: 0.9547 - val_loss: 0.1385\n",
      "Epoch 12/30\n",
      "\u001b[1m381/381\u001b[0m \u001b[32m━━━━━━━━━━━━━━━━━━━━\u001b[0m\u001b[37m\u001b[0m \u001b[1m6s\u001b[0m 15ms/step - accuracy: 0.9814 - loss: 0.0520 - val_accuracy: 0.9560 - val_loss: 0.1509\n",
      "Epoch 13/30\n",
      "\u001b[1m381/381\u001b[0m \u001b[32m━━━━━━━━━━━━━━━━━━━━\u001b[0m\u001b[37m\u001b[0m \u001b[1m5s\u001b[0m 14ms/step - accuracy: 0.9793 - loss: 0.0684 - val_accuracy: 0.9642 - val_loss: 0.1451\n",
      "Epoch 14/30\n",
      "\u001b[1m381/381\u001b[0m \u001b[32m━━━━━━━━━━━━━━━━━━━━\u001b[0m\u001b[37m\u001b[0m \u001b[1m6s\u001b[0m 15ms/step - accuracy: 0.9896 - loss: 0.0274 - val_accuracy: 0.9625 - val_loss: 0.1493\n",
      "Epoch 15/30\n",
      "\u001b[1m381/381\u001b[0m \u001b[32m━━━━━━━━━━━━━━━━━━━━\u001b[0m\u001b[37m\u001b[0m \u001b[1m6s\u001b[0m 15ms/step - accuracy: 0.9856 - loss: 0.0422 - val_accuracy: 0.9599 - val_loss: 0.1751\n",
      "Epoch 16/30\n",
      "\u001b[1m381/381\u001b[0m \u001b[32m━━━━━━━━━━━━━━━━━━━━\u001b[0m\u001b[37m\u001b[0m \u001b[1m6s\u001b[0m 16ms/step - accuracy: 0.9861 - loss: 0.0441 - val_accuracy: 0.9586 - val_loss: 0.1686\n",
      "Epoch 17/30\n",
      "\u001b[1m381/381\u001b[0m \u001b[32m━━━━━━━━━━━━━━━━━━━━\u001b[0m\u001b[37m\u001b[0m \u001b[1m6s\u001b[0m 16ms/step - accuracy: 0.9902 - loss: 0.0313 - val_accuracy: 0.9540 - val_loss: 0.1982\n",
      "Epoch 18/30\n",
      "\u001b[1m381/381\u001b[0m \u001b[32m━━━━━━━━━━━━━━━━━━━━\u001b[0m\u001b[37m\u001b[0m \u001b[1m6s\u001b[0m 15ms/step - accuracy: 0.9857 - loss: 0.0436 - val_accuracy: 0.9619 - val_loss: 0.1449\n",
      "Epoch 19/30\n",
      "\u001b[1m381/381\u001b[0m \u001b[32m━━━━━━━━━━━━━━━━━━━━\u001b[0m\u001b[37m\u001b[0m \u001b[1m6s\u001b[0m 16ms/step - accuracy: 0.9906 - loss: 0.0285 - val_accuracy: 0.9635 - val_loss: 0.1628\n",
      "Epoch 20/30\n",
      "\u001b[1m381/381\u001b[0m \u001b[32m━━━━━━━━━━━━━━━━━━━━\u001b[0m\u001b[37m\u001b[0m \u001b[1m5s\u001b[0m 14ms/step - accuracy: 0.9910 - loss: 0.0330 - val_accuracy: 0.9537 - val_loss: 0.2012\n",
      "Epoch 21/30\n",
      "\u001b[1m381/381\u001b[0m \u001b[32m━━━━━━━━━━━━━━━━━━━━\u001b[0m\u001b[37m\u001b[0m \u001b[1m6s\u001b[0m 15ms/step - accuracy: 0.9863 - loss: 0.0415 - val_accuracy: 0.9645 - val_loss: 0.1916\n",
      "Epoch 22/30\n",
      "\u001b[1m381/381\u001b[0m \u001b[32m━━━━━━━━━━━━━━━━━━━━\u001b[0m\u001b[37m\u001b[0m \u001b[1m6s\u001b[0m 15ms/step - accuracy: 0.9937 - loss: 0.0181 - val_accuracy: 0.9602 - val_loss: 0.1981\n",
      "Epoch 23/30\n",
      "\u001b[1m381/381\u001b[0m \u001b[32m━━━━━━━━━━━━━━━━━━━━\u001b[0m\u001b[37m\u001b[0m \u001b[1m7s\u001b[0m 19ms/step - accuracy: 0.9882 - loss: 0.0375 - val_accuracy: 0.9373 - val_loss: 0.2965\n",
      "Epoch 24/30\n",
      "\u001b[1m381/381\u001b[0m \u001b[32m━━━━━━━━━━━━━━━━━━━━\u001b[0m\u001b[37m\u001b[0m \u001b[1m6s\u001b[0m 14ms/step - accuracy: 0.9905 - loss: 0.0274 - val_accuracy: 0.9599 - val_loss: 0.1946\n",
      "Epoch 25/30\n",
      "\u001b[1m381/381\u001b[0m \u001b[32m━━━━━━━━━━━━━━━━━━━━\u001b[0m\u001b[37m\u001b[0m \u001b[1m5s\u001b[0m 13ms/step - accuracy: 0.9892 - loss: 0.0314 - val_accuracy: 0.9593 - val_loss: 0.2207\n",
      "Epoch 26/30\n",
      "\u001b[1m381/381\u001b[0m \u001b[32m━━━━━━━━━━━━━━━━━━━━\u001b[0m\u001b[37m\u001b[0m \u001b[1m6s\u001b[0m 15ms/step - accuracy: 0.9917 - loss: 0.0313 - val_accuracy: 0.9468 - val_loss: 0.3049\n",
      "Epoch 27/30\n",
      "\u001b[1m381/381\u001b[0m \u001b[32m━━━━━━━━━━━━━━━━━━━━\u001b[0m\u001b[37m\u001b[0m \u001b[1m7s\u001b[0m 17ms/step - accuracy: 0.9865 - loss: 0.0406 - val_accuracy: 0.9455 - val_loss: 0.3374\n",
      "Epoch 28/30\n",
      "\u001b[1m381/381\u001b[0m \u001b[32m━━━━━━━━━━━━━━━━━━━━\u001b[0m\u001b[37m\u001b[0m \u001b[1m6s\u001b[0m 15ms/step - accuracy: 0.9903 - loss: 0.0426 - val_accuracy: 0.9606 - val_loss: 0.2179\n",
      "Epoch 29/30\n",
      "\u001b[1m381/381\u001b[0m \u001b[32m━━━━━━━━━━━━━━━━━━━━\u001b[0m\u001b[37m\u001b[0m \u001b[1m6s\u001b[0m 15ms/step - accuracy: 0.9946 - loss: 0.0164 - val_accuracy: 0.9602 - val_loss: 0.2608\n",
      "Epoch 30/30\n",
      "\u001b[1m381/381\u001b[0m \u001b[32m━━━━━━━━━━━━━━━━━━━━\u001b[0m\u001b[37m\u001b[0m \u001b[1m6s\u001b[0m 15ms/step - accuracy: 0.9953 - loss: 0.0176 - val_accuracy: 0.9580 - val_loss: 0.2724\n"
     ]
    }
   ],
   "source": [
    "history = model.fit(\n",
    "    X_train, y_train,\n",
    "    epochs=30,\n",
    "    batch_size=32,\n",
    "    validation_data=(X_test, y_test)\n",
    ")\n"
   ]
  },
  {
   "cell_type": "code",
   "execution_count": 5,
   "metadata": {},
   "outputs": [
    {
     "name": "stderr",
     "output_type": "stream",
     "text": [
      "WARNING:absl:You are saving your model as an HDF5 file via `model.save()` or `keras.saving.save_model(model)`. This file format is considered legacy. We recommend using instead the native Keras format, e.g. `model.save('my_model.keras')` or `keras.saving.save_model(model, 'my_model.keras')`. \n"
     ]
    }
   ],
   "source": [
    "model.save('motions.h5')"
   ]
  },
  {
   "cell_type": "code",
   "execution_count": 6,
   "metadata": {},
   "outputs": [
    {
     "name": "stdout",
     "output_type": "stream",
     "text": [
      "\u001b[1m96/96\u001b[0m \u001b[32m━━━━━━━━━━━━━━━━━━━━\u001b[0m\u001b[37m\u001b[0m \u001b[1m0s\u001b[0m 4ms/step - accuracy: 0.9508 - loss: 0.3271\n",
      "Test Accuracy: 95.80%\n"
     ]
    },
    {
     "data": {
      "image/png": "[encoded data removed]",
      "text/plain": [
       "<Figure size 640x480 with 1 Axes>"
      ]
     },
     "metadata": {},
     "output_type": "display_data"
    }
   ],
   "source": [
    "# Evaluate on test data\n",
    "test_loss, test_acc = model.evaluate(X_test, y_test)\n",
    "print(f\"Test Accuracy: {test_acc * 100:.2f}%\")\n",
    "\n",
    "# Visualize training history\n",
    "import matplotlib.pyplot as plt\n",
    "plt.plot(history.history['accuracy'], label='Training Accuracy')\n",
    "plt.plot(history.history['val_accuracy'], label='Validation Accuracy')\n",
    "plt.xlabel('Epochs')\n",
    "plt.ylabel('Accuracy')\n",
    "plt.legend()\n",
    "plt.show()\n"
   ]
  },
  {
   "cell_type": "code",
   "execution_count": 12,
   "metadata": {},
   "outputs": [
    {
     "name": "stderr",
     "output_type": "stream",
     "text": [
      "WARNING:absl:Compiled the loaded model, but the compiled metrics have yet to be built. `model.compile_metrics` will be empty until you train or evaluate the model.\n"
     ]
    },
    {
     "name": "stdout",
     "output_type": "stream",
     "text": [
      "Recording...\n",
      "Recording complete.\n",
      "MFCC shape: (1, 40, 32, 1)\n",
      "WARNING:tensorflow:5 out of the last 5 calls to <function TensorFlowTrainer.make_predict_function.<locals>.one_step_on_data_distributed at 0x00000270DA7800E0> triggered tf.function retracing. Tracing is expensive and the excessive number of tracings could be due to (1) creating @tf.function repeatedly in a loop, (2) passing tensors with different shapes, (3) passing Python objects instead of tensors. For (1), please define your @tf.function outside of the loop. For (2), @tf.function has reduce_retracing=True option that can avoid unnecessary retracing. For (3), please refer to https://www.tensorflow.org/guide/function#controlling_retracing and https://www.tensorflow.org/api_docs/python/tf/function for  more details.\n"
     ]
    },
    {
     "name": "stderr",
     "output_type": "stream",
     "text": [
      "WARNING:tensorflow:5 out of the last 5 calls to <function TensorFlowTrainer.make_predict_function.<locals>.one_step_on_data_distributed at 0x00000270DA7800E0> triggered tf.function retracing. Tracing is expensive and the excessive number of tracings could be due to (1) creating @tf.function repeatedly in a loop, (2) passing tensors with different shapes, (3) passing Python objects instead of tensors. For (1), please define your @tf.function outside of the loop. For (2), @tf.function has reduce_retracing=True option that can avoid unnecessary retracing. For (3), please refer to https://www.tensorflow.org/guide/function#controlling_retracing and https://www.tensorflow.org/api_docs/python/tf/function for  more details.\n"
     ]
    },
    {
     "name": "stdout",
     "output_type": "stream",
     "text": [
      "\u001b[1m1/1\u001b[0m \u001b[32m━━━━━━━━━━━━━━━━━━━━\u001b[0m\u001b[37m\u001b[0m \u001b[1m0s\u001b[0m 66ms/step\n",
      "Recognized Command: right\n"
     ]
    }
   ],
   "source": [
    "import sounddevice as sd\n",
    "import numpy as np\n",
    "import librosa\n",
    "import tensorflow as tf\n",
    "from tensorflow.keras.models import load_model\n",
    "\n",
    "# Function to record audio\n",
    "def record_audio(duration=2, sample_rate=16000):\n",
    "    print(\"Recording...\")\n",
    "    audio_data = sd.rec(int(duration * sample_rate), samplerate=sample_rate, channels=1, dtype='int16')\n",
    "    sd.wait()  # Wait until recording is finished\n",
    "    print(\"Recording complete.\")\n",
    "    return audio_data.flatten(), sample_rate\n",
    "\n",
    "# Convert audio data to floating-point and normalize\n",
    "def normalize_audio(audio):\n",
    "    return audio.astype(np.float32) / 32768.0  # Normalize to range [-1, 1]\n",
    "\n",
    "# Extract MFCC features from the audio\n",
    "def extract_mfcc(audio, sr, duration=2, n_mfcc=40, frames=32):\n",
    "    # Normalize the audio\n",
    "    audio = normalize_audio(audio)\n",
    "    \n",
    "    # Extract MFCC features from audio\n",
    "    mfcc = librosa.feature.mfcc(y=audio, sr=sr, n_mfcc=n_mfcc)\n",
    "    \n",
    "    # Ensure the MFCC has the right number of frames (pad or trim)\n",
    "    if mfcc.shape[1] < frames:\n",
    "        mfcc = np.pad(mfcc, ((0, 0), (0, frames - mfcc.shape[1])), mode='constant')\n",
    "    elif mfcc.shape[1] > frames:\n",
    "        mfcc = mfcc[:, :frames]\n",
    "    \n",
    "    # Reshape to match model input (1, 40, 32, 1)\n",
    "    mfcc = np.expand_dims(mfcc, axis=-1)  # Add channel dimension\n",
    "    mfcc = np.expand_dims(mfcc, axis=0)  # Add batch dimension\n",
    "    \n",
    "    return mfcc\n",
    "\n",
    "# Function to recognize command from recorded audio\n",
    "def recognize_command_from_microphone(model, duration=2, commands=None):\n",
    "    # Record audio\n",
    "    audio, sr = record_audio(duration=duration)\n",
    "\n",
    "    # Extract MFCC features\n",
    "    mfcc = extract_mfcc(audio, sr, duration)\n",
    "    \n",
    "    print(f\"MFCC shape: {mfcc.shape}\")  # Check MFCC shape\n",
    "    \n",
    "    # Predict the command\n",
    "    prediction = model.predict(mfcc)\n",
    "    predicted_command = commands[np.argmax(prediction)]  # Get the label with the highest prediction score\n",
    "\n",
    "    print(f\"Recognized Command: {predicted_command}\")\n",
    "\n",
    "# Example usage\n",
    "commands = ['up', 'down', 'left', 'right']  # List of your command labels\n",
    "model = load_model('motions.h5')  # Load your trained model\n",
    "recognize_command_from_microphone(model, duration=2, commands=commands)\n"
   ]
  }
 ],
 "metadata": {
  "kernelspec": {
   "display_name": "base",
   "language": "python",
   "name": "python3"
  },
  "language_info": {
   "codemirror_mode": {
    "name": "ipython",
    "version": 3
   },
   "file_extension": ".py",
   "mimetype": "text/x-python",
   "name": "python",
   "nbconvert_exporter": "python",
   "pygments_lexer": "ipython3",
   "version": "3.12.3"
  },
  "orig_nbformat": 4
 },
 "nbformat": 4,
 "nbformat_minor": 2
}
