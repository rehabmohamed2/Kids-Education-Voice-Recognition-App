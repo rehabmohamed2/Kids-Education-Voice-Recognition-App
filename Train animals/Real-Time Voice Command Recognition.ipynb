{
 "cells": [
  {
   "cell_type": "code",
   "execution_count": 1,
   "metadata": {},
   "outputs": [
    {
     "name": "stderr",
     "output_type": "stream",
     "text": [
      "<>:9: SyntaxWarning: invalid escape sequence '\\s'\n",
      "<>:9: SyntaxWarning: invalid escape sequence '\\s'\n",
      "C:\\Users\\DELL\\AppData\\Local\\Temp\\ipykernel_12488\\4278073666.py:9: SyntaxWarning: invalid escape sequence '\\s'\n",
      "  data_dir = 'E:\\study\\رابعه\\Machine Learning\\project\\Learn App\\Train Animals'\n"
     ]
    }
   ],
   "source": [
    "import tensorflow as tf\n",
    "import os\n",
    "import librosa\n",
    "import numpy as np\n",
    "from sklearn.model_selection import train_test_split\n",
    "\n",
    "# Define commands and paths\n",
    "commands = ['cat', 'dog', 'bird']\n",
    "data_dir = 'E:\\study\\رابعه\\Machine Learning\\project\\Learn App\\Train Animals'\n",
    "\n",
    "# Helper function to load audio files\n",
    "def load_audio_files(data_dir, commands):\n",
    "    audio_data = []\n",
    "    labels = []\n",
    "    for label, command in enumerate(commands):\n",
    "        command_path = os.path.join(data_dir, command)\n",
    "        for file in os.listdir(command_path):\n",
    "            try:\n",
    "                file_path = os.path.join(command_path, file)\n",
    "                audio, sr = librosa.load(file_path, sr=16000)\n",
    "                audio_data.append(audio)\n",
    "                labels.append(label)\n",
    "            except Exception as e:\n",
    "                print(f\"Error loading {file}: {e}\")\n",
    "    return np.array(audio_data, dtype=object), np.array(labels)\n",
    "\n",
    "# Load the data\n",
    "audio_data, labels = load_audio_files(data_dir, commands)\n"
   ]
  },
  {
   "cell_type": "code",
   "execution_count": 2,
   "metadata": {},
   "outputs": [],
   "source": [
    "def extract_features(audio_data, max_length=16000):\n",
    "    features = []\n",
    "    for audio in audio_data:\n",
    "        # Pad or truncate audio to fixed length\n",
    "        audio = librosa.util.fix_length(audio, size=max_length)\n",
    "        # Extract MFCC features\n",
    "        mfcc = librosa.feature.mfcc(y=audio, sr=16000, n_mfcc=40)\n",
    "        features.append(mfcc)\n",
    "    return np.array(features)\n",
    "\n",
    "# Extract features\n",
    "features = extract_features(audio_data)\n",
    "\n",
    "# Normalize and reshape\n",
    "features = np.expand_dims(features, -1)  # Add channel dimension for CNN\n",
    "labels = tf.keras.utils.to_categorical(labels, num_classes=len(commands))\n",
    "\n",
    "# Split into training and testing\n",
    "X_train, X_test, y_train, y_test = train_test_split(features, labels, test_size=0.2, random_state=42)\n"
   ]
  },
  {
   "cell_type": "code",
   "execution_count": 93,
   "metadata": {},
   "outputs": [],
   "source": [
    "from tensorflow.keras import layers, models\n",
    "\n",
    "def build_model(input_shape, num_classes):\n",
    "    model = models.Sequential([\n",
    "        layers.Conv2D(32, (3, 3), activation='relu', input_shape=input_shape),\n",
    "        layers.BatchNormalization(),\n",
    "        layers.MaxPooling2D((2, 2)),\n",
    "        layers.Dropout(0.2),\n",
    "        layers.Conv2D(64, (3, 3), activation='relu'),\n",
    "        layers.BatchNormalization(),\n",
    "        layers.MaxPooling2D((2, 2)),\n",
    "        layers.Dropout(0.3),\n",
    "        layers.Conv2D(128, (3, 3), activation='relu'),\n",
    "        layers.BatchNormalization(),\n",
    "        layers.MaxPooling2D((2, 2)),\n",
    "        layers.Dropout(0.4),\n",
    "        layers.Flatten(),\n",
    "        layers.Dense(256, activation='relu', kernel_regularizer=tf.keras.regularizers.l2(0.001)),\n",
    "        layers.Dropout(0.5),\n",
    "        layers.Dense(num_classes, activation='softmax')\n",
    "    ])\n",
    "    model.compile(optimizer='adam',\n",
    "                  loss='categorical_crossentropy',\n",
    "                  metrics=['accuracy'])\n",
    "    return model\n",
    "\n",
    "# Build the model\n",
    "input_shape = X_train.shape[1:]  # e.g., (40, 100, 1)\n",
    "model = build_model(input_shape, len(commands))\n"
   ]
  },
  {
   "cell_type": "code",
   "execution_count": 94,
   "metadata": {},
   "outputs": [
    {
     "name": "stdout",
     "output_type": "stream",
     "text": [
      "Epoch 1/50\n"
     ]
    },
    {
     "name": "stdout",
     "output_type": "stream",
     "text": [
      "\u001b[1m156/156\u001b[0m \u001b[32m━━━━━━━━━━━━━━━━━━━━\u001b[0m\u001b[37m\u001b[0m \u001b[1m8s\u001b[0m 32ms/step - accuracy: 0.4758 - loss: 2.0380 - val_accuracy: 0.7285 - val_loss: 0.9366\n",
      "Epoch 2/50\n",
      "\u001b[1m156/156\u001b[0m \u001b[32m━━━━━━━━━━━━━━━━━━━━\u001b[0m\u001b[37m\u001b[0m \u001b[1m5s\u001b[0m 35ms/step - accuracy: 0.7600 - loss: 0.9343 - val_accuracy: 0.8932 - val_loss: 0.6370\n",
      "Epoch 3/50\n",
      "\u001b[1m156/156\u001b[0m \u001b[32m━━━━━━━━━━━━━━━━━━━━\u001b[0m\u001b[37m\u001b[0m \u001b[1m5s\u001b[0m 34ms/step - accuracy: 0.8465 - loss: 0.7150 - val_accuracy: 0.9084 - val_loss: 0.5247\n",
      "Epoch 4/50\n",
      "\u001b[1m156/156\u001b[0m \u001b[32m━━━━━━━━━━━━━━━━━━━━\u001b[0m\u001b[37m\u001b[0m \u001b[1m5s\u001b[0m 30ms/step - accuracy: 0.8797 - loss: 0.6153 - val_accuracy: 0.9357 - val_loss: 0.4481\n",
      "Epoch 5/50\n",
      "\u001b[1m156/156\u001b[0m \u001b[32m━━━━━━━━━━━━━━━━━━━━\u001b[0m\u001b[37m\u001b[0m \u001b[1m5s\u001b[0m 31ms/step - accuracy: 0.8916 - loss: 0.5551 - val_accuracy: 0.9382 - val_loss: 0.4115\n",
      "Epoch 6/50\n",
      "\u001b[1m156/156\u001b[0m \u001b[32m━━━━━━━━━━━━━━━━━━━━\u001b[0m\u001b[37m\u001b[0m \u001b[1m4s\u001b[0m 29ms/step - accuracy: 0.9129 - loss: 0.4687 - val_accuracy: 0.9486 - val_loss: 0.3684\n",
      "Epoch 7/50\n",
      "\u001b[1m156/156\u001b[0m \u001b[32m━━━━━━━━━━━━━━━━━━━━\u001b[0m\u001b[37m\u001b[0m \u001b[1m5s\u001b[0m 29ms/step - accuracy: 0.9105 - loss: 0.4512 - val_accuracy: 0.9486 - val_loss: 0.3286\n",
      "Epoch 8/50\n",
      "\u001b[1m156/156\u001b[0m \u001b[32m━━━━━━━━━━━━━━━━━━━━\u001b[0m\u001b[37m\u001b[0m \u001b[1m5s\u001b[0m 29ms/step - accuracy: 0.9321 - loss: 0.3871 - val_accuracy: 0.9526 - val_loss: 0.2999\n",
      "Epoch 9/50\n",
      "\u001b[1m156/156\u001b[0m \u001b[32m━━━━━━━━━━━━━━━━━━━━\u001b[0m\u001b[37m\u001b[0m \u001b[1m5s\u001b[0m 30ms/step - accuracy: 0.9424 - loss: 0.3463 - val_accuracy: 0.9550 - val_loss: 0.2792\n",
      "Epoch 10/50\n",
      "\u001b[1m156/156\u001b[0m \u001b[32m━━━━━━━━━━━━━━━━━━━━\u001b[0m\u001b[37m\u001b[0m \u001b[1m5s\u001b[0m 29ms/step - accuracy: 0.9493 - loss: 0.3111 - val_accuracy: 0.9614 - val_loss: 0.2509\n",
      "Epoch 11/50\n",
      "\u001b[1m156/156\u001b[0m \u001b[32m━━━━━━━━━━━━━━━━━━━━\u001b[0m\u001b[37m\u001b[0m \u001b[1m5s\u001b[0m 30ms/step - accuracy: 0.9450 - loss: 0.2898 - val_accuracy: 0.9614 - val_loss: 0.2345\n",
      "Epoch 12/50\n",
      "\u001b[1m156/156\u001b[0m \u001b[32m━━━━━━━━━━━━━━━━━━━━\u001b[0m\u001b[37m\u001b[0m \u001b[1m5s\u001b[0m 32ms/step - accuracy: 0.9432 - loss: 0.2806 - val_accuracy: 0.9655 - val_loss: 0.2204\n",
      "Epoch 13/50\n",
      "\u001b[1m156/156\u001b[0m \u001b[32m━━━━━━━━━━━━━━━━━━━━\u001b[0m\u001b[37m\u001b[0m \u001b[1m5s\u001b[0m 32ms/step - accuracy: 0.9576 - loss: 0.2487 - val_accuracy: 0.9582 - val_loss: 0.2316\n",
      "Epoch 14/50\n",
      "\u001b[1m156/156\u001b[0m \u001b[32m━━━━━━━━━━━━━━━━━━━━\u001b[0m\u001b[37m\u001b[0m \u001b[1m5s\u001b[0m 29ms/step - accuracy: 0.9471 - loss: 0.2379 - val_accuracy: 0.9558 - val_loss: 0.2167\n",
      "Epoch 15/50\n",
      "\u001b[1m156/156\u001b[0m \u001b[32m━━━━━━━━━━━━━━━━━━━━\u001b[0m\u001b[37m\u001b[0m \u001b[1m5s\u001b[0m 32ms/step - accuracy: 0.9566 - loss: 0.2251 - val_accuracy: 0.9598 - val_loss: 0.1974\n",
      "Epoch 16/50\n",
      "\u001b[1m156/156\u001b[0m \u001b[32m━━━━━━━━━━━━━━━━━━━━\u001b[0m\u001b[37m\u001b[0m \u001b[1m5s\u001b[0m 31ms/step - accuracy: 0.9587 - loss: 0.2095 - val_accuracy: 0.9622 - val_loss: 0.1804\n",
      "Epoch 17/50\n",
      "\u001b[1m156/156\u001b[0m \u001b[32m━━━━━━━━━━━━━━━━━━━━\u001b[0m\u001b[37m\u001b[0m \u001b[1m5s\u001b[0m 31ms/step - accuracy: 0.9646 - loss: 0.1852 - val_accuracy: 0.9590 - val_loss: 0.1834\n",
      "Epoch 18/50\n",
      "\u001b[1m156/156\u001b[0m \u001b[32m━━━━━━━━━━━━━━━━━━━━\u001b[0m\u001b[37m\u001b[0m \u001b[1m5s\u001b[0m 31ms/step - accuracy: 0.9586 - loss: 0.1980 - val_accuracy: 0.9590 - val_loss: 0.1951\n",
      "Epoch 19/50\n",
      "\u001b[1m156/156\u001b[0m \u001b[32m━━━━━━━━━━━━━━━━━━━━\u001b[0m\u001b[37m\u001b[0m \u001b[1m5s\u001b[0m 32ms/step - accuracy: 0.9578 - loss: 0.1982 - val_accuracy: 0.9655 - val_loss: 0.1610\n",
      "Epoch 20/50\n",
      "\u001b[1m156/156\u001b[0m \u001b[32m━━━━━━━━━━━━━━━━━━━━\u001b[0m\u001b[37m\u001b[0m \u001b[1m5s\u001b[0m 30ms/step - accuracy: 0.9582 - loss: 0.1840 - val_accuracy: 0.9614 - val_loss: 0.1708\n",
      "Epoch 21/50\n",
      "\u001b[1m156/156\u001b[0m \u001b[32m━━━━━━━━━━━━━━━━━━━━\u001b[0m\u001b[37m\u001b[0m \u001b[1m5s\u001b[0m 31ms/step - accuracy: 0.9672 - loss: 0.1604 - val_accuracy: 0.9655 - val_loss: 0.1542\n",
      "Epoch 22/50\n",
      "\u001b[1m156/156\u001b[0m \u001b[32m━━━━━━━━━━━━━━━━━━━━\u001b[0m\u001b[37m\u001b[0m \u001b[1m5s\u001b[0m 30ms/step - accuracy: 0.9660 - loss: 0.1686 - val_accuracy: 0.9679 - val_loss: 0.1523\n",
      "Epoch 23/50\n",
      "\u001b[1m156/156\u001b[0m \u001b[32m━━━━━━━━━━━━━━━━━━━━\u001b[0m\u001b[37m\u001b[0m \u001b[1m5s\u001b[0m 30ms/step - accuracy: 0.9703 - loss: 0.1615 - val_accuracy: 0.9622 - val_loss: 0.1579\n",
      "Epoch 24/50\n",
      "\u001b[1m156/156\u001b[0m \u001b[32m━━━━━━━━━━━━━━━━━━━━\u001b[0m\u001b[37m\u001b[0m \u001b[1m5s\u001b[0m 30ms/step - accuracy: 0.9634 - loss: 0.1661 - val_accuracy: 0.9671 - val_loss: 0.1453\n",
      "Epoch 25/50\n",
      "\u001b[1m156/156\u001b[0m \u001b[32m━━━━━━━━━━━━━━━━━━━━\u001b[0m\u001b[37m\u001b[0m \u001b[1m5s\u001b[0m 30ms/step - accuracy: 0.9699 - loss: 0.1568 - val_accuracy: 0.9598 - val_loss: 0.1743\n",
      "Epoch 26/50\n",
      "\u001b[1m156/156\u001b[0m \u001b[32m━━━━━━━━━━━━━━━━━━━━\u001b[0m\u001b[37m\u001b[0m \u001b[1m5s\u001b[0m 30ms/step - accuracy: 0.9612 - loss: 0.1813 - val_accuracy: 0.9687 - val_loss: 0.1506\n",
      "Epoch 27/50\n",
      "\u001b[1m156/156\u001b[0m \u001b[32m━━━━━━━━━━━━━━━━━━━━\u001b[0m\u001b[37m\u001b[0m \u001b[1m5s\u001b[0m 30ms/step - accuracy: 0.9732 - loss: 0.1391 - val_accuracy: 0.9687 - val_loss: 0.1382\n",
      "Epoch 28/50\n",
      "\u001b[1m156/156\u001b[0m \u001b[32m━━━━━━━━━━━━━━━━━━━━\u001b[0m\u001b[37m\u001b[0m \u001b[1m5s\u001b[0m 30ms/step - accuracy: 0.9721 - loss: 0.1555 - val_accuracy: 0.9574 - val_loss: 0.1730\n",
      "Epoch 29/50\n",
      "\u001b[1m156/156\u001b[0m \u001b[32m━━━━━━━━━━━━━━━━━━━━\u001b[0m\u001b[37m\u001b[0m \u001b[1m5s\u001b[0m 30ms/step - accuracy: 0.9708 - loss: 0.1379 - val_accuracy: 0.9775 - val_loss: 0.1366\n",
      "Epoch 30/50\n",
      "\u001b[1m156/156\u001b[0m \u001b[32m━━━━━━━━━━━━━━━━━━━━\u001b[0m\u001b[37m\u001b[0m \u001b[1m5s\u001b[0m 30ms/step - accuracy: 0.9663 - loss: 0.1480 - val_accuracy: 0.9719 - val_loss: 0.1329\n",
      "Epoch 31/50\n",
      "\u001b[1m156/156\u001b[0m \u001b[32m━━━━━━━━━━━━━━━━━━━━\u001b[0m\u001b[37m\u001b[0m \u001b[1m5s\u001b[0m 30ms/step - accuracy: 0.9741 - loss: 0.1346 - val_accuracy: 0.9655 - val_loss: 0.1418\n",
      "Epoch 32/50\n",
      "\u001b[1m156/156\u001b[0m \u001b[32m━━━━━━━━━━━━━━━━━━━━\u001b[0m\u001b[37m\u001b[0m \u001b[1m5s\u001b[0m 30ms/step - accuracy: 0.9766 - loss: 0.1234 - val_accuracy: 0.9598 - val_loss: 0.1428\n",
      "Epoch 33/50\n",
      "\u001b[1m156/156\u001b[0m \u001b[32m━━━━━━━━━━━━━━━━━━━━\u001b[0m\u001b[37m\u001b[0m \u001b[1m5s\u001b[0m 31ms/step - accuracy: 0.9763 - loss: 0.1195 - val_accuracy: 0.9703 - val_loss: 0.1379\n",
      "Epoch 34/50\n",
      "\u001b[1m156/156\u001b[0m \u001b[32m━━━━━━━━━━━━━━━━━━━━\u001b[0m\u001b[37m\u001b[0m \u001b[1m5s\u001b[0m 30ms/step - accuracy: 0.9732 - loss: 0.1289 - val_accuracy: 0.9679 - val_loss: 0.1281\n",
      "Epoch 35/50\n",
      "\u001b[1m156/156\u001b[0m \u001b[32m━━━━━━━━━━━━━━━━━━━━\u001b[0m\u001b[37m\u001b[0m \u001b[1m5s\u001b[0m 32ms/step - accuracy: 0.9844 - loss: 0.1177 - val_accuracy: 0.9759 - val_loss: 0.1299\n",
      "Epoch 36/50\n",
      "\u001b[1m156/156\u001b[0m \u001b[32m━━━━━━━━━━━━━━━━━━━━\u001b[0m\u001b[37m\u001b[0m \u001b[1m5s\u001b[0m 30ms/step - accuracy: 0.9755 - loss: 0.1196 - val_accuracy: 0.9719 - val_loss: 0.1466\n",
      "Epoch 37/50\n",
      "\u001b[1m156/156\u001b[0m \u001b[32m━━━━━━━━━━━━━━━━━━━━\u001b[0m\u001b[37m\u001b[0m \u001b[1m5s\u001b[0m 30ms/step - accuracy: 0.9732 - loss: 0.1284 - val_accuracy: 0.9703 - val_loss: 0.1323\n",
      "Epoch 38/50\n",
      "\u001b[1m156/156\u001b[0m \u001b[32m━━━━━━━━━━━━━━━━━━━━\u001b[0m\u001b[37m\u001b[0m \u001b[1m5s\u001b[0m 30ms/step - accuracy: 0.9738 - loss: 0.1357 - val_accuracy: 0.9727 - val_loss: 0.1208\n",
      "Epoch 39/50\n",
      "\u001b[1m156/156\u001b[0m \u001b[32m━━━━━━━━━━━━━━━━━━━━\u001b[0m\u001b[37m\u001b[0m \u001b[1m5s\u001b[0m 30ms/step - accuracy: 0.9750 - loss: 0.1302 - val_accuracy: 0.9703 - val_loss: 0.1389\n",
      "Epoch 40/50\n",
      "\u001b[1m156/156\u001b[0m \u001b[32m━━━━━━━━━━━━━━━━━━━━\u001b[0m\u001b[37m\u001b[0m \u001b[1m5s\u001b[0m 30ms/step - accuracy: 0.9721 - loss: 0.1355 - val_accuracy: 0.9695 - val_loss: 0.1362\n",
      "Epoch 41/50\n",
      "\u001b[1m156/156\u001b[0m \u001b[32m━━━━━━━━━━━━━━━━━━━━\u001b[0m\u001b[37m\u001b[0m \u001b[1m5s\u001b[0m 30ms/step - accuracy: 0.9833 - loss: 0.1078 - val_accuracy: 0.9751 - val_loss: 0.1297\n",
      "Epoch 42/50\n",
      "\u001b[1m156/156\u001b[0m \u001b[32m━━━━━━━━━━━━━━━━━━━━\u001b[0m\u001b[37m\u001b[0m \u001b[1m5s\u001b[0m 30ms/step - accuracy: 0.9828 - loss: 0.1131 - val_accuracy: 0.9703 - val_loss: 0.1242\n",
      "Epoch 43/50\n",
      "\u001b[1m156/156\u001b[0m \u001b[32m━━━━━━━━━━━━━━━━━━━━\u001b[0m\u001b[37m\u001b[0m \u001b[1m5s\u001b[0m 30ms/step - accuracy: 0.9864 - loss: 0.0943 - val_accuracy: 0.9727 - val_loss: 0.1214\n"
     ]
    }
   ],
   "source": [
    "from tensorflow.keras.callbacks import EarlyStopping\n",
    "\n",
    "early_stopping = EarlyStopping(monitor='val_loss', patience=5, restore_best_weights=True)\n",
    "history = model.fit(\n",
    "    X_train, y_train,\n",
    "    epochs=50,\n",
    "    callbacks=[early_stopping],\n",
    "    batch_size=32,\n",
    "    validation_data=(X_test, y_test)\n",
    ")\n"
   ]
  },
  {
   "cell_type": "code",
   "execution_count": 106,
   "metadata": {},
   "outputs": [
    {
     "name": "stderr",
     "output_type": "stream",
     "text": [
      "WARNING:absl:You are saving your model as an HDF5 file via `model.save()` or `keras.saving.save_model(model)`. This file format is considered legacy. We recommend using instead the native Keras format, e.g. `model.save('my_model.keras')` or `keras.saving.save_model(model, 'my_model.keras')`. \n"
     ]
    }
   ],
   "source": [
    "model.save('animalsv3.h5')"
   ]
  },
  {
   "cell_type": "code",
   "execution_count": 75,
   "metadata": {},
   "outputs": [
    {
     "name": "stdout",
     "output_type": "stream",
     "text": [
      "\u001b[1m39/39\u001b[0m \u001b[32m━━━━━━━━━━━━━━━━━━━━\u001b[0m\u001b[37m\u001b[0m \u001b[1m1s\u001b[0m 23ms/step - accuracy: 0.9757 - loss: 0.1146\n",
      "Test Accuracy: 97.59%\n"
     ]
    },
    {
     "data": {
      "image/png": "[encoded data removed]",
      "text/plain": [
       "<Figure size 640x480 with 1 Axes>"
      ]
     },
     "metadata": {},
     "output_type": "display_data"
    }
   ],
   "source": [
    "# Evaluate on test data\n",
    "test_loss, test_acc = model.evaluate(X_test, y_test)\n",
    "print(f\"Test Accuracy: {test_acc * 100:.2f}%\")\n",
    "\n",
    "# Visualize training history\n",
    "import matplotlib.pyplot as plt\n",
    "plt.plot(history.history['accuracy'], label='Training Accuracy')\n",
    "plt.plot(history.history['val_accuracy'], label='Validation Accuracy')\n",
    "plt.xlabel('Epochs')\n",
    "plt.ylabel('Accuracy')\n",
    "plt.legend()\n",
    "plt.show()\n"
   ]
  },
  {
   "cell_type": "code",
   "execution_count": 109,
   "metadata": {},
   "outputs": [
    {
     "name": "stderr",
     "output_type": "stream",
     "text": [
      "WARNING:absl:Compiled the loaded model, but the compiled metrics have yet to be built. `model.compile_metrics` will be empty until you train or evaluate the model.\n"
     ]
    },
    {
     "name": "stdout",
     "output_type": "stream",
     "text": [
      "Recording...\n",
      "Recording complete.\n",
      "MFCC shape: (1, 40, 32, 1)\n",
      "\u001b[1m1/1\u001b[0m \u001b[32m━━━━━━━━━━━━━━━━━━━━\u001b[0m\u001b[37m\u001b[0m \u001b[1m0s\u001b[0m 110ms/step\n",
      "Recognized Command: bird\n"
     ]
    }
   ],
   "source": [
    "import sounddevice as sd\n",
    "import numpy as np\n",
    "import librosa\n",
    "import tensorflow as tf\n",
    "from tensorflow.keras.models import load_model\n",
    "\n",
    "# Function to record audio\n",
    "def record_audio(duration=2, sample_rate=16000):\n",
    "    print(\"Recording...\")\n",
    "    audio_data = sd.rec(int(duration * sample_rate), samplerate=sample_rate, channels=1, dtype='int16')\n",
    "    sd.wait()  # Wait until recording is finished\n",
    "    print(\"Recording complete.\")\n",
    "    return audio_data.flatten(), sample_rate\n",
    "\n",
    "# Convert audio data to floating-point and normalize\n",
    "def normalize_audio(audio):\n",
    "    return audio.astype(np.float32) / 32768.0  # Normalize to range [-1, 1]\n",
    "\n",
    "# Extract MFCC features from the audio\n",
    "def extract_mfcc(audio, sr, duration=2, n_mfcc=40, frames=32):\n",
    "    # Normalize the audio\n",
    "    audio = normalize_audio(audio)\n",
    "    \n",
    "    # Extract MFCC features from audio\n",
    "    mfcc = librosa.feature.mfcc(y=audio, sr=sr, n_mfcc=n_mfcc)\n",
    "    \n",
    "    # Ensure the MFCC has the right number of frames (pad or trim)\n",
    "    if mfcc.shape[1] < frames:\n",
    "        mfcc = np.pad(mfcc, ((0, 0), (0, frames - mfcc.shape[1])), mode='constant')\n",
    "    elif mfcc.shape[1] > frames:\n",
    "        mfcc = mfcc[:, :frames]\n",
    "    \n",
    "    # Reshape to match model input (1, 40, 32, 1)\n",
    "    mfcc = np.expand_dims(mfcc, axis=-1)  # Add channel dimension\n",
    "    mfcc = np.expand_dims(mfcc, axis=0)  # Add batch dimension\n",
    "    \n",
    "    return mfcc\n",
    "\n",
    "# Function to recognize command from recorded audio\n",
    "def recognize_command_from_microphone(model, duration=2, commands=None):\n",
    "    # Record audio\n",
    "    audio, sr = record_audio(duration=duration)\n",
    "\n",
    "    # Extract MFCC features\n",
    "    mfcc = extract_mfcc(audio, sr, duration)\n",
    "    \n",
    "    print(f\"MFCC shape: {mfcc.shape}\")  # Check MFCC shape\n",
    "    \n",
    "    # Predict the command\n",
    "    prediction = model.predict(mfcc)\n",
    "    predicted_command = commands[np.argmax(prediction)]  # Get the label with the highest prediction score\n",
    "\n",
    "    print(f\"Recognized Command: {predicted_command}\")\n",
    "\n",
    "# Example usage\n",
    "commands = ['cat', 'dog', 'bird']  # List of your command labels\n",
    "model = load_model('animalsv3.h5')  # Load your trained model\n",
    "recognize_command_from_microphone(model, duration=2, commands=commands)\n"
   ]
  }
 ],
 "metadata": {
  "kernelspec": {
   "display_name": "base",
   "language": "python",
   "name": "python3"
  },
  "language_info": {
   "codemirror_mode": {
    "name": "ipython",
    "version": 3
   },
   "file_extension": ".py",
   "mimetype": "text/x-python",
   "name": "python",
   "nbconvert_exporter": "python",
   "pygments_lexer": "ipython3",
   "version": "3.12.3"
  },
  "orig_nbformat": 4
 },
 "nbformat": 4,
 "nbformat_minor": 2
}
