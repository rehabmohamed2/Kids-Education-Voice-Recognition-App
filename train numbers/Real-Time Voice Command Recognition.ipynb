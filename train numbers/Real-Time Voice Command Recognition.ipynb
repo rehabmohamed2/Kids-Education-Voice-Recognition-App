{
 "cells": [
  {
   "cell_type": "code",
   "execution_count": 1,
   "metadata": {},
   "outputs": [
    {
     "name": "stderr",
     "output_type": "stream",
     "text": [
      "<>:9: SyntaxWarning: invalid escape sequence '\\s'\n",
      "<>:9: SyntaxWarning: invalid escape sequence '\\s'\n",
      "C:\\Users\\DELL\\AppData\\Local\\Temp\\ipykernel_18880\\2414872024.py:9: SyntaxWarning: invalid escape sequence '\\s'\n",
      "  data_dir = 'E:\\study\\رابعه\\Machine Learning\\project\\Learn App\\Train numbers'\n"
     ]
    }
   ],
   "source": [
    "import tensorflow as tf\n",
    "import os\n",
    "import librosa\n",
    "import numpy as np\n",
    "from sklearn.model_selection import train_test_split\n",
    "\n",
    "# Define commands and paths\n",
    "commands = ['zero', 'one', 'two', 'three', 'four', 'five','six', 'seven', 'eight', 'nine']\n",
    "data_dir = 'E:\\study\\رابعه\\Machine Learning\\project\\Learn App\\Train numbers'\n",
    "\n",
    "# Helper function to load audio files\n",
    "def load_audio_files(data_dir, commands):\n",
    "    audio_data = []\n",
    "    labels = []\n",
    "    for label, command in enumerate(commands):\n",
    "        command_path = os.path.join(data_dir, command)\n",
    "        for file in os.listdir(command_path):\n",
    "            try:\n",
    "                file_path = os.path.join(command_path, file)\n",
    "                audio, sr = librosa.load(file_path, sr=16000)\n",
    "                audio_data.append(audio)\n",
    "                labels.append(label)\n",
    "            except Exception as e:\n",
    "                print(f\"Error loading {file}: {e}\")\n",
    "    return np.array(audio_data, dtype=object), np.array(labels)\n",
    "\n",
    "# Load the data\n",
    "audio_data, labels = load_audio_files(data_dir, commands)\n"
   ]
  },
  {
   "cell_type": "code",
   "execution_count": 2,
   "metadata": {},
   "outputs": [],
   "source": [
    "def extract_features(audio_data, max_length=16000):\n",
    "    features = []\n",
    "    for audio in audio_data:\n",
    "        # Pad or truncate audio to fixed length\n",
    "        audio = librosa.util.fix_length(audio, size=max_length)\n",
    "        # Extract MFCC features\n",
    "        mfcc = librosa.feature.mfcc(y=audio, sr=16000, n_mfcc=40)\n",
    "        features.append(mfcc)\n",
    "    return np.array(features)\n",
    "\n",
    "# Extract features\n",
    "features = extract_features(audio_data)\n",
    "\n",
    "# Normalize and reshape\n",
    "features = np.expand_dims(features, -1)  # Add channel dimension for CNN\n",
    "labels = tf.keras.utils.to_categorical(labels, num_classes=len(commands))\n",
    "\n",
    "# Split into training and testing\n",
    "X_train, X_test, y_train, y_test = train_test_split(features, labels, test_size=0.2, random_state=42)\n"
   ]
  },
  {
   "cell_type": "code",
   "execution_count": 114,
   "metadata": {},
   "outputs": [],
   "source": [
    "from tensorflow.keras import layers, models\n",
    "\n",
    "def build_model(input_shape, num_classes):\n",
    "    model = models.Sequential([\n",
    "         # Block 1\n",
    "        layers.Conv2D(32, (3, 3), activation='relu', padding='same', input_shape=input_shape),\n",
    "        layers.BatchNormalization(),\n",
    "        layers.Conv2D(32, (3, 3), activation='relu', padding='same'),\n",
    "        layers.BatchNormalization(),\n",
    "        layers.MaxPooling2D((2, 2)),\n",
    "        layers.Dropout(0.3),\n",
    "\n",
    "        # Block 2\n",
    "        layers.Conv2D(64, (3, 3), activation='relu', padding='same'),\n",
    "        layers.BatchNormalization(),\n",
    "        layers.Conv2D(64, (3, 3), activation='relu', padding='same'),\n",
    "        layers.BatchNormalization(),\n",
    "        layers.MaxPooling2D((2, 2)),\n",
    "        layers.Dropout(0.4),\n",
    "\n",
    "        # Block 3\n",
    "        layers.Conv2D(128, (3, 3), activation='relu', padding='same'),\n",
    "        layers.BatchNormalization(),\n",
    "        layers.Conv2D(128, (3, 3), activation='relu', padding='same'),\n",
    "        layers.BatchNormalization(),\n",
    "        layers.MaxPooling2D((2, 2)),\n",
    "        layers.Dropout(0.4),\n",
    "\n",
    "        # Block 4\n",
    "        layers.Conv2D(256, (3, 3), activation='relu', padding='same'),\n",
    "        layers.BatchNormalization(),\n",
    "        layers.Conv2D(256, (3, 3), activation='relu', padding='same'),\n",
    "        layers.BatchNormalization(),\n",
    "        layers.MaxPooling2D((2, 2)),\n",
    "        layers.Dropout(0.5),\n",
    "\n",
    "        # Fully Connected Layers\n",
    "        layers.Flatten(),\n",
    "        layers.Dense(512, activation='relu', kernel_regularizer=tf.keras.regularizers.l2(0.001)),\n",
    "        layers.Dropout(0.5),\n",
    "        layers.Dense(256, activation='relu', kernel_regularizer=tf.keras.regularizers.l2(0.001)),\n",
    "        layers.Dropout(0.5),\n",
    "        layers.Dense(num_classes, activation='softmax')\n",
    "    ])\n",
    "    model.compile(optimizer='adam',\n",
    "                  loss='categorical_crossentropy',\n",
    "                  metrics=['accuracy'])\n",
    "    return model\n",
    "# Build the model\n",
    "input_shape = X_train.shape[1:]  # e.g., (40, 100, 1)\n",
    "model = build_model(input_shape, len(commands))\n"
   ]
  },
  {
   "cell_type": "code",
   "execution_count": 115,
   "metadata": {},
   "outputs": [
    {
     "name": "stdout",
     "output_type": "stream",
     "text": [
      "Epoch 1/50\n",
      "\u001b[1m1946/1946\u001b[0m \u001b[32m━━━━━━━━━━━━━━━━━━━━\u001b[0m\u001b[37m\u001b[0m \u001b[1m142s\u001b[0m 70ms/step - accuracy: 0.2075 - loss: 3.1981 - val_accuracy: 0.6297 - val_loss: 1.3659\n",
      "Epoch 2/50\n",
      "\u001b[1m1946/1946\u001b[0m \u001b[32m━━━━━━━━━━━━━━━━━━━━\u001b[0m\u001b[37m\u001b[0m \u001b[1m133s\u001b[0m 69ms/step - accuracy: 0.6911 - loss: 1.2544 - val_accuracy: 0.9088 - val_loss: 0.5607\n",
      "Epoch 3/50\n",
      "\u001b[1m1946/1946\u001b[0m \u001b[32m━━━━━━━━━━━━━━━━━━━━\u001b[0m\u001b[37m\u001b[0m \u001b[1m134s\u001b[0m 69ms/step - accuracy: 0.8727 - loss: 0.7099 - val_accuracy: 0.9487 - val_loss: 0.3840\n",
      "Epoch 4/50\n",
      "\u001b[1m1946/1946\u001b[0m \u001b[32m━━━━━━━━━━━━━━━━━━━━\u001b[0m\u001b[37m\u001b[0m \u001b[1m135s\u001b[0m 69ms/step - accuracy: 0.9161 - loss: 0.5217 - val_accuracy: 0.9512 - val_loss: 0.3404\n",
      "Epoch 5/50\n",
      "\u001b[1m1946/1946\u001b[0m \u001b[32m━━━━━━━━━━━━━━━━━━━━\u001b[0m\u001b[37m\u001b[0m \u001b[1m135s\u001b[0m 69ms/step - accuracy: 0.9254 - loss: 0.4603 - val_accuracy: 0.9573 - val_loss: 0.2997\n",
      "Epoch 6/50\n",
      "\u001b[1m1946/1946\u001b[0m \u001b[32m━━━━━━━━━━━━━━━━━━━━\u001b[0m\u001b[37m\u001b[0m \u001b[1m137s\u001b[0m 70ms/step - accuracy: 0.9386 - loss: 0.3828 - val_accuracy: 0.9676 - val_loss: 0.2516\n",
      "Epoch 7/50\n",
      "\u001b[1m1946/1946\u001b[0m \u001b[32m━━━━━━━━━━━━━━━━━━━━\u001b[0m\u001b[37m\u001b[0m \u001b[1m137s\u001b[0m 71ms/step - accuracy: 0.9413 - loss: 0.3601 - val_accuracy: 0.9573 - val_loss: 0.2731\n",
      "Epoch 8/50\n",
      "\u001b[1m1946/1946\u001b[0m \u001b[32m━━━━━━━━━━━━━━━━━━━━\u001b[0m\u001b[37m\u001b[0m \u001b[1m137s\u001b[0m 71ms/step - accuracy: 0.9452 - loss: 0.3323 - val_accuracy: 0.9612 - val_loss: 0.2563\n",
      "Epoch 9/50\n",
      "\u001b[1m1946/1946\u001b[0m \u001b[32m━━━━━━━━━━━━━━━━━━━━\u001b[0m\u001b[37m\u001b[0m \u001b[1m139s\u001b[0m 71ms/step - accuracy: 0.9511 - loss: 0.2918 - val_accuracy: 0.9675 - val_loss: 0.2254\n",
      "Epoch 10/50\n",
      "\u001b[1m1946/1946\u001b[0m \u001b[32m━━━━━━━━━━━━━━━━━━━━\u001b[0m\u001b[37m\u001b[0m \u001b[1m138s\u001b[0m 71ms/step - accuracy: 0.9557 - loss: 0.2724 - val_accuracy: 0.9738 - val_loss: 0.2029\n",
      "Epoch 11/50\n",
      "\u001b[1m1946/1946\u001b[0m \u001b[32m━━━━━━━━━━━━━━━━━━━━\u001b[0m\u001b[37m\u001b[0m \u001b[1m138s\u001b[0m 71ms/step - accuracy: 0.9556 - loss: 0.2785 - val_accuracy: 0.9680 - val_loss: 0.2265\n",
      "Epoch 12/50\n",
      "\u001b[1m1946/1946\u001b[0m \u001b[32m━━━━━━━━━━━━━━━━━━━━\u001b[0m\u001b[37m\u001b[0m \u001b[1m138s\u001b[0m 71ms/step - accuracy: 0.9553 - loss: 0.2669 - val_accuracy: 0.9681 - val_loss: 0.2036\n",
      "Epoch 13/50\n",
      "\u001b[1m1946/1946\u001b[0m \u001b[32m━━━━━━━━━━━━━━━━━━━━\u001b[0m\u001b[37m\u001b[0m \u001b[1m138s\u001b[0m 71ms/step - accuracy: 0.9617 - loss: 0.2447 - val_accuracy: 0.9663 - val_loss: 0.2115\n",
      "Epoch 14/50\n",
      "\u001b[1m1946/1946\u001b[0m \u001b[32m━━━━━━━━━━━━━━━━━━━━\u001b[0m\u001b[37m\u001b[0m \u001b[1m138s\u001b[0m 71ms/step - accuracy: 0.9598 - loss: 0.2457 - val_accuracy: 0.9698 - val_loss: 0.1947\n",
      "Epoch 15/50\n",
      "\u001b[1m1946/1946\u001b[0m \u001b[32m━━━━━━━━━━━━━━━━━━━━\u001b[0m\u001b[37m\u001b[0m \u001b[1m140s\u001b[0m 72ms/step - accuracy: 0.9640 - loss: 0.2219 - val_accuracy: 0.9710 - val_loss: 0.1860\n",
      "Epoch 16/50\n",
      "\u001b[1m1946/1946\u001b[0m \u001b[32m━━━━━━━━━━━━━━━━━━━━\u001b[0m\u001b[37m\u001b[0m \u001b[1m141s\u001b[0m 72ms/step - accuracy: 0.9659 - loss: 0.2104 - val_accuracy: 0.9708 - val_loss: 0.1906\n",
      "Epoch 17/50\n",
      "\u001b[1m1946/1946\u001b[0m \u001b[32m━━━━━━━━━━━━━━━━━━━━\u001b[0m\u001b[37m\u001b[0m \u001b[1m142s\u001b[0m 73ms/step - accuracy: 0.9666 - loss: 0.2070 - val_accuracy: 0.9711 - val_loss: 0.1860\n",
      "Epoch 18/50\n",
      "\u001b[1m1946/1946\u001b[0m \u001b[32m━━━━━━━━━━━━━━━━━━━━\u001b[0m\u001b[37m\u001b[0m \u001b[1m149s\u001b[0m 76ms/step - accuracy: 0.9660 - loss: 0.2127 - val_accuracy: 0.9721 - val_loss: 0.1818\n",
      "Epoch 19/50\n",
      "\u001b[1m1946/1946\u001b[0m \u001b[32m━━━━━━━━━━━━━━━━━━━━\u001b[0m\u001b[37m\u001b[0m \u001b[1m143s\u001b[0m 73ms/step - accuracy: 0.9682 - loss: 0.2002 - val_accuracy: 0.9692 - val_loss: 0.1853\n",
      "Epoch 20/50\n",
      "\u001b[1m1946/1946\u001b[0m \u001b[32m━━━━━━━━━━━━━━━━━━━━\u001b[0m\u001b[37m\u001b[0m \u001b[1m143s\u001b[0m 73ms/step - accuracy: 0.9673 - loss: 0.2008 - val_accuracy: 0.9708 - val_loss: 0.1882\n",
      "Epoch 21/50\n",
      "\u001b[1m1946/1946\u001b[0m \u001b[32m━━━━━━━━━━━━━━━━━━━━\u001b[0m\u001b[37m\u001b[0m \u001b[1m143s\u001b[0m 74ms/step - accuracy: 0.9689 - loss: 0.1904 - val_accuracy: 0.9729 - val_loss: 0.1764\n",
      "Epoch 22/50\n",
      "\u001b[1m1946/1946\u001b[0m \u001b[32m━━━━━━━━━━━━━━━━━━━━\u001b[0m\u001b[37m\u001b[0m \u001b[1m143s\u001b[0m 74ms/step - accuracy: 0.9700 - loss: 0.1857 - val_accuracy: 0.9717 - val_loss: 0.1784\n",
      "Epoch 23/50\n",
      "\u001b[1m1946/1946\u001b[0m \u001b[32m━━━━━━━━━━━━━━━━━━━━\u001b[0m\u001b[37m\u001b[0m \u001b[1m143s\u001b[0m 73ms/step - accuracy: 0.9723 - loss: 0.1798 - val_accuracy: 0.9719 - val_loss: 0.1727\n",
      "Epoch 24/50\n",
      "\u001b[1m1946/1946\u001b[0m \u001b[32m━━━━━━━━━━━━━━━━━━━━\u001b[0m\u001b[37m\u001b[0m \u001b[1m143s\u001b[0m 73ms/step - accuracy: 0.9724 - loss: 0.1759 - val_accuracy: 0.9708 - val_loss: 0.1792\n",
      "Epoch 25/50\n",
      "\u001b[1m1946/1946\u001b[0m \u001b[32m━━━━━━━━━━━━━━━━━━━━\u001b[0m\u001b[37m\u001b[0m \u001b[1m143s\u001b[0m 73ms/step - accuracy: 0.9717 - loss: 0.1812 - val_accuracy: 0.9717 - val_loss: 0.1835\n",
      "Epoch 26/50\n",
      "\u001b[1m1946/1946\u001b[0m \u001b[32m━━━━━━━━━━━━━━━━━━━━\u001b[0m\u001b[37m\u001b[0m \u001b[1m143s\u001b[0m 73ms/step - accuracy: 0.9733 - loss: 0.1761 - val_accuracy: 0.9721 - val_loss: 0.1884\n",
      "Epoch 27/50\n",
      "\u001b[1m1946/1946\u001b[0m \u001b[32m━━━━━━━━━━━━━━━━━━━━\u001b[0m\u001b[37m\u001b[0m \u001b[1m143s\u001b[0m 73ms/step - accuracy: 0.9737 - loss: 0.1760 - val_accuracy: 0.9713 - val_loss: 0.1909\n",
      "Epoch 28/50\n",
      "\u001b[1m1946/1946\u001b[0m \u001b[32m━━━━━━━━━━━━━━━━━━━━\u001b[0m\u001b[37m\u001b[0m \u001b[1m143s\u001b[0m 73ms/step - accuracy: 0.9722 - loss: 0.1734 - val_accuracy: 0.9739 - val_loss: 0.1749\n"
     ]
    }
   ],
   "source": [
    "from tensorflow.keras.callbacks import EarlyStopping\n",
    "\n",
    "early_stopping = EarlyStopping(monitor='val_loss', patience=5, restore_best_weights=True)\n",
    "history = model.fit(\n",
    "    X_train, y_train,\n",
    "    epochs=50,\n",
    "    batch_size=16,\n",
    "    callbacks=[early_stopping],\n",
    "    validation_data=(X_test, y_test)\n",
    ")\n"
   ]
  },
  {
   "cell_type": "code",
   "execution_count": 116,
   "metadata": {},
   "outputs": [
    {
     "name": "stderr",
     "output_type": "stream",
     "text": [
      "WARNING:absl:You are saving your model as an HDF5 file via `model.save()` or `keras.saving.save_model(model)`. This file format is considered legacy. We recommend using instead the native Keras format, e.g. `model.save('my_model.keras')` or `keras.saving.save_model(model, 'my_model.keras')`. \n"
     ]
    }
   ],
   "source": [
    "model.save('numbersv3.h5')"
   ]
  },
  {
   "cell_type": "code",
   "execution_count": 117,
   "metadata": {},
   "outputs": [
    {
     "name": "stdout",
     "output_type": "stream",
     "text": [
      "\u001b[1m244/244\u001b[0m \u001b[32m━━━━━━━━━━━━━━━━━━━━\u001b[0m\u001b[37m\u001b[0m \u001b[1m6s\u001b[0m 24ms/step - accuracy: 0.9698 - loss: 0.1764\n",
      "Test Accuracy: 97.19%\n"
     ]
    },
    {
     "data": {
      "image/png": "[encoded data removed]",
      "text/plain": [
       "<Figure size 640x480 with 1 Axes>"
      ]
     },
     "metadata": {},
     "output_type": "display_data"
    }
   ],
   "source": [
    "# Evaluate on test data\n",
    "test_loss, test_acc = model.evaluate(X_test, y_test)\n",
    "print(f\"Test Accuracy: {test_acc * 100:.2f}%\")\n",
    "\n",
    "# Visualize training history\n",
    "import matplotlib.pyplot as plt\n",
    "plt.plot(history.history['accuracy'], label='Training Accuracy')\n",
    "plt.plot(history.history['val_accuracy'], label='Validation Accuracy')\n",
    "plt.xlabel('Epochs')\n",
    "plt.ylabel('Accuracy')\n",
    "plt.legend()\n",
    "plt.show()\n"
   ]
  },
  {
   "cell_type": "code",
   "execution_count": 193,
   "metadata": {},
   "outputs": [
    {
     "name": "stderr",
     "output_type": "stream",
     "text": [
      "WARNING:absl:Compiled the loaded model, but the compiled metrics have yet to be built. `model.compile_metrics` will be empty until you train or evaluate the model.\n"
     ]
    },
    {
     "name": "stdout",
     "output_type": "stream",
     "text": [
      "Recording...\n",
      "Recording complete.\n",
      "MFCC shape: (1, 40, 32, 1)\n",
      "\u001b[1m1/1\u001b[0m \u001b[32m━━━━━━━━━━━━━━━━━━━━\u001b[0m\u001b[37m\u001b[0m \u001b[1m0s\u001b[0m 63ms/step\n",
      "Recognized Command: five\n"
     ]
    }
   ],
   "source": [
    "import sounddevice as sd\n",
    "import numpy as np\n",
    "import librosa\n",
    "import tensorflow as tf\n",
    "from tensorflow.keras.models import load_model\n",
    "\n",
    "# Function to record audio\n",
    "def record_audio(duration=2, sample_rate=16000):\n",
    "    print(\"Recording...\")\n",
    "    audio_data = sd.rec(int(duration * sample_rate), samplerate=sample_rate, channels=1, dtype='int16')\n",
    "    sd.wait()  # Wait until recording is finished\n",
    "    print(\"Recording complete.\")\n",
    "    return audio_data.flatten(), sample_rate\n",
    "\n",
    "# Convert audio data to floating-point and normalize\n",
    "def normalize_audio(audio):\n",
    "    return audio.astype(np.float32) / 32768.0  # Normalize to range [-1, 1]\n",
    "\n",
    "# Extract MFCC features from the audio\n",
    "def extract_mfcc(audio, sr, duration=2, n_mfcc=40, frames=32):\n",
    "    # Normalize the audio\n",
    "    audio = normalize_audio(audio)\n",
    "    \n",
    "    # Extract MFCC features from audio\n",
    "    mfcc = librosa.feature.mfcc(y=audio, sr=sr, n_mfcc=n_mfcc)\n",
    "    \n",
    "    # Ensure the MFCC has the right number of frames (pad or trim)\n",
    "    if mfcc.shape[1] < frames:\n",
    "        mfcc = np.pad(mfcc, ((0, 0), (0, frames - mfcc.shape[1])), mode='constant')\n",
    "    elif mfcc.shape[1] > frames:\n",
    "        mfcc = mfcc[:, :frames]\n",
    "    \n",
    "    # Reshape to match model input (1, 40, 32, 1)\n",
    "    mfcc = np.expand_dims(mfcc, axis=-1)  # Add channel dimension\n",
    "    mfcc = np.expand_dims(mfcc, axis=0)  # Add batch dimension\n",
    "    \n",
    "    return mfcc\n",
    "\n",
    "# Function to recognize command from recorded audio\n",
    "def recognize_command_from_microphone(model, duration=2, commands=None):\n",
    "    # Record audio\n",
    "    audio, sr = record_audio(duration=duration)\n",
    "\n",
    "    # Extract MFCC features\n",
    "    mfcc = extract_mfcc(audio, sr, duration)\n",
    "    \n",
    "    print(f\"MFCC shape: {mfcc.shape}\")  # Check MFCC shape\n",
    "    \n",
    "    # Predict the command\n",
    "    prediction = model.predict(mfcc)\n",
    "    predicted_command = commands[np.argmax(prediction)]  # Get the label with the highest prediction score\n",
    "\n",
    "    print(f\"Recognized Command: {predicted_command}\")\n",
    "\n",
    "# Example usage\n",
    "commands = ['zero', 'one', 'two', 'three', 'four', 'five','six', 'seven', 'eight', 'nine'] # List of your command labels\n",
    "model = load_model('numbers.h5')  # Load your trained model\n",
    "recognize_command_from_microphone(model, duration=2, commands=commands)\n"
   ]
  },
  {
   "cell_type": "code",
   "execution_count": null,
   "metadata": {},
   "outputs": [],
   "source": []
  }
 ],
 "metadata": {
  "kernelspec": {
   "display_name": "base",
   "language": "python",
   "name": "python3"
  },
  "language_info": {
   "codemirror_mode": {
    "name": "ipython",
    "version": 3
   },
   "file_extension": ".py",
   "mimetype": "text/x-python",
   "name": "python",
   "nbconvert_exporter": "python",
   "pygments_lexer": "ipython3",
   "version": "3.12.3"
  },
  "orig_nbformat": 4
 },
 "nbformat": 4,
 "nbformat_minor": 2
}
